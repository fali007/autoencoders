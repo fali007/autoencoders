{
 "cells": [
  {
   "cell_type": "code",
   "execution_count": 1,
   "metadata": {},
   "outputs": [
    {
     "name": "stderr",
     "output_type": "stream",
     "text": [
      "Using TensorFlow backend.\n",
      "/Users/felixgeorge/opt/anaconda3/lib/python3.7/site-packages/tensorflow/python/framework/dtypes.py:516: FutureWarning: Passing (type, 1) or '1type' as a synonym of type is deprecated; in a future version of numpy, it will be understood as (type, (1,)) / '(1,)type'.\n",
      "  _np_qint8 = np.dtype([(\"qint8\", np.int8, 1)])\n",
      "/Users/felixgeorge/opt/anaconda3/lib/python3.7/site-packages/tensorflow/python/framework/dtypes.py:517: FutureWarning: Passing (type, 1) or '1type' as a synonym of type is deprecated; in a future version of numpy, it will be understood as (type, (1,)) / '(1,)type'.\n",
      "  _np_quint8 = np.dtype([(\"quint8\", np.uint8, 1)])\n",
      "/Users/felixgeorge/opt/anaconda3/lib/python3.7/site-packages/tensorflow/python/framework/dtypes.py:518: FutureWarning: Passing (type, 1) or '1type' as a synonym of type is deprecated; in a future version of numpy, it will be understood as (type, (1,)) / '(1,)type'.\n",
      "  _np_qint16 = np.dtype([(\"qint16\", np.int16, 1)])\n",
      "/Users/felixgeorge/opt/anaconda3/lib/python3.7/site-packages/tensorflow/python/framework/dtypes.py:519: FutureWarning: Passing (type, 1) or '1type' as a synonym of type is deprecated; in a future version of numpy, it will be understood as (type, (1,)) / '(1,)type'.\n",
      "  _np_quint16 = np.dtype([(\"quint16\", np.uint16, 1)])\n",
      "/Users/felixgeorge/opt/anaconda3/lib/python3.7/site-packages/tensorflow/python/framework/dtypes.py:520: FutureWarning: Passing (type, 1) or '1type' as a synonym of type is deprecated; in a future version of numpy, it will be understood as (type, (1,)) / '(1,)type'.\n",
      "  _np_qint32 = np.dtype([(\"qint32\", np.int32, 1)])\n",
      "/Users/felixgeorge/opt/anaconda3/lib/python3.7/site-packages/tensorflow/python/framework/dtypes.py:525: FutureWarning: Passing (type, 1) or '1type' as a synonym of type is deprecated; in a future version of numpy, it will be understood as (type, (1,)) / '(1,)type'.\n",
      "  np_resource = np.dtype([(\"resource\", np.ubyte, 1)])\n",
      "/Users/felixgeorge/opt/anaconda3/lib/python3.7/site-packages/tensorboard/compat/tensorflow_stub/dtypes.py:541: FutureWarning: Passing (type, 1) or '1type' as a synonym of type is deprecated; in a future version of numpy, it will be understood as (type, (1,)) / '(1,)type'.\n",
      "  _np_qint8 = np.dtype([(\"qint8\", np.int8, 1)])\n",
      "/Users/felixgeorge/opt/anaconda3/lib/python3.7/site-packages/tensorboard/compat/tensorflow_stub/dtypes.py:542: FutureWarning: Passing (type, 1) or '1type' as a synonym of type is deprecated; in a future version of numpy, it will be understood as (type, (1,)) / '(1,)type'.\n",
      "  _np_quint8 = np.dtype([(\"quint8\", np.uint8, 1)])\n",
      "/Users/felixgeorge/opt/anaconda3/lib/python3.7/site-packages/tensorboard/compat/tensorflow_stub/dtypes.py:543: FutureWarning: Passing (type, 1) or '1type' as a synonym of type is deprecated; in a future version of numpy, it will be understood as (type, (1,)) / '(1,)type'.\n",
      "  _np_qint16 = np.dtype([(\"qint16\", np.int16, 1)])\n",
      "/Users/felixgeorge/opt/anaconda3/lib/python3.7/site-packages/tensorboard/compat/tensorflow_stub/dtypes.py:544: FutureWarning: Passing (type, 1) or '1type' as a synonym of type is deprecated; in a future version of numpy, it will be understood as (type, (1,)) / '(1,)type'.\n",
      "  _np_quint16 = np.dtype([(\"quint16\", np.uint16, 1)])\n",
      "/Users/felixgeorge/opt/anaconda3/lib/python3.7/site-packages/tensorboard/compat/tensorflow_stub/dtypes.py:545: FutureWarning: Passing (type, 1) or '1type' as a synonym of type is deprecated; in a future version of numpy, it will be understood as (type, (1,)) / '(1,)type'.\n",
      "  _np_qint32 = np.dtype([(\"qint32\", np.int32, 1)])\n",
      "/Users/felixgeorge/opt/anaconda3/lib/python3.7/site-packages/tensorboard/compat/tensorflow_stub/dtypes.py:550: FutureWarning: Passing (type, 1) or '1type' as a synonym of type is deprecated; in a future version of numpy, it will be understood as (type, (1,)) / '(1,)type'.\n",
      "  np_resource = np.dtype([(\"resource\", np.ubyte, 1)])\n"
     ]
    }
   ],
   "source": [
    "import numpy as np\n",
    "import matplotlib.pyplot as plt\n",
    "import cv2\n",
    "import os\n",
    "import argparse\n",
    "from keras.layers import Input, Dense, Conv2D, MaxPooling2D, UpSampling2D, Flatten, Reshape,Lambda\n",
    "from keras.models import Model\n",
    "from keras.datasets import mnist\n",
    "from keras.losses import mse, binary_crossentropy\n",
    "from keras.utils import plot_model\n",
    "from keras import backend as K\n",
    "from keras.optimizers import adam"
   ]
  },
  {
   "cell_type": "code",
   "execution_count": 2,
   "metadata": {},
   "outputs": [],
   "source": [
    "def prepare_data():\n",
    "    dat=[]\n",
    "    frames=os.listdir('data')\n",
    "    for i in frames:\n",
    "        try:\n",
    "            temp=cv2.imread('data/'+i)\n",
    "            t=cv2.resize(temp,(64,64))\n",
    "            dat.append(t)\n",
    "        except Exception as e:\n",
    "            continue\n",
    "    return dat"
   ]
  },
  {
   "cell_type": "code",
   "execution_count": 3,
   "metadata": {},
   "outputs": [
    {
     "data": {
      "text/plain": [
       "(200, 64, 64, 3)"
      ]
     },
     "execution_count": 3,
     "metadata": {},
     "output_type": "execute_result"
    }
   ],
   "source": [
    "data=prepare_data()\n",
    "dat=[]\n",
    "for i in data:\n",
    "    if np.array(i).shape==(64,64,3):\n",
    "        dat.append(np.array(i/255))\n",
    "dat=np.array(dat)\n",
    "dat.shape"
   ]
  },
  {
   "cell_type": "code",
   "execution_count": 4,
   "metadata": {},
   "outputs": [],
   "source": [
    "def sampling(args):\n",
    "    z_mean, z_log_var = args\n",
    "    batch = K.shape(z_mean)[0]\n",
    "    dim = K.int_shape(z_mean)[1]\n",
    "    epsilon = K.random_normal(shape=(batch, dim))\n",
    "    return z_mean + K.exp(0.5 * z_log_var) * epsilon"
   ]
  },
  {
   "cell_type": "code",
   "execution_count": 5,
   "metadata": {},
   "outputs": [
    {
     "name": "stdout",
     "output_type": "stream",
     "text": [
      "WARNING:tensorflow:From /Users/felixgeorge/opt/anaconda3/lib/python3.7/site-packages/keras/backend/tensorflow_backend.py:4070: The name tf.nn.max_pool is deprecated. Please use tf.nn.max_pool2d instead.\n",
      "\n",
      "Model: \"encoder\"\n",
      "__________________________________________________________________________________________________\n",
      "Layer (type)                    Output Shape         Param #     Connected to                     \n",
      "==================================================================================================\n",
      "input_1 (InputLayer)            (None, 64, 64, 3)    0                                            \n",
      "__________________________________________________________________________________________________\n",
      "conv2d_1 (Conv2D)               (None, 64, 64, 8)    224         input_1[0][0]                    \n",
      "__________________________________________________________________________________________________\n",
      "max_pooling2d_1 (MaxPooling2D)  (None, 32, 32, 8)    0           conv2d_1[0][0]                   \n",
      "__________________________________________________________________________________________________\n",
      "conv2d_2 (Conv2D)               (None, 32, 32, 4)    292         max_pooling2d_1[0][0]            \n",
      "__________________________________________________________________________________________________\n",
      "max_pooling2d_2 (MaxPooling2D)  (None, 16, 16, 4)    0           conv2d_2[0][0]                   \n",
      "__________________________________________________________________________________________________\n",
      "conv2d_3 (Conv2D)               (None, 16, 16, 2)    74          max_pooling2d_2[0][0]            \n",
      "__________________________________________________________________________________________________\n",
      "max_pooling2d_3 (MaxPooling2D)  (None, 8, 8, 2)      0           conv2d_3[0][0]                   \n",
      "__________________________________________________________________________________________________\n",
      "flatten_1 (Flatten)             (None, 128)          0           max_pooling2d_3[0][0]            \n",
      "__________________________________________________________________________________________________\n",
      "dense_1 (Dense)                 (None, 16)           2064        flatten_1[0][0]                  \n",
      "__________________________________________________________________________________________________\n",
      "mean (Dense)                    (None, 2)            34          dense_1[0][0]                    \n",
      "__________________________________________________________________________________________________\n",
      "var (Dense)                     (None, 2)            34          dense_1[0][0]                    \n",
      "__________________________________________________________________________________________________\n",
      "z (Lambda)                      (None, 2)            0           mean[0][0]                       \n",
      "                                                                 var[0][0]                        \n",
      "==================================================================================================\n",
      "Total params: 2,722\n",
      "Trainable params: 2,722\n",
      "Non-trainable params: 0\n",
      "__________________________________________________________________________________________________\n",
      "Model: \"model_1\"\n",
      "_________________________________________________________________\n",
      "Layer (type)                 Output Shape              Param #   \n",
      "=================================================================\n",
      "z_sampled (InputLayer)       (None, 2)                 0         \n",
      "_________________________________________________________________\n",
      "dense_2 (Dense)              (None, 16)                48        \n",
      "_________________________________________________________________\n",
      "dense_3 (Dense)              (None, 128)               2176      \n",
      "_________________________________________________________________\n",
      "reshape_1 (Reshape)          (None, 8, 8, 2)           0         \n",
      "_________________________________________________________________\n",
      "up_sampling2d_1 (UpSampling2 (None, 16, 16, 2)         0         \n",
      "_________________________________________________________________\n",
      "conv2d_4 (Conv2D)            (None, 16, 16, 2)         38        \n",
      "_________________________________________________________________\n",
      "up_sampling2d_2 (UpSampling2 (None, 32, 32, 2)         0         \n",
      "_________________________________________________________________\n",
      "conv2d_5 (Conv2D)            (None, 32, 32, 2)         38        \n",
      "_________________________________________________________________\n",
      "up_sampling2d_3 (UpSampling2 (None, 64, 64, 2)         0         \n",
      "_________________________________________________________________\n",
      "conv2d_6 (Conv2D)            (None, 64, 64, 3)         57        \n",
      "=================================================================\n",
      "Total params: 2,357\n",
      "Trainable params: 2,357\n",
      "Non-trainable params: 0\n",
      "_________________________________________________________________\n"
     ]
    },
    {
     "name": "stderr",
     "output_type": "stream",
     "text": [
      "/Users/felixgeorge/opt/anaconda3/lib/python3.7/site-packages/ipykernel_launcher.py:27: UserWarning: Update your `Model` call to the Keras 2 API: `Model(Tensor(\"z_..., outputs=Tensor(\"co...)`\n"
     ]
    }
   ],
   "source": [
    "input_img=Input(shape=(64,64,3))\n",
    "x=Conv2D(8,kernel_size=3,activation='relu',padding='same')(input_img)\n",
    "x=MaxPooling2D((2,2),padding='same')(x)\n",
    "x=Conv2D(4,kernel_size=3,activation='relu',padding='same')(x)\n",
    "x=MaxPooling2D((2,2),padding='same')(x)\n",
    "x=Conv2D(2,kernel_size=3,activation='relu',padding='same')(x)\n",
    "x=MaxPooling2D((2,2),padding='same')(x)\n",
    "x=Flatten()(x)\n",
    "x=Dense(16,activation='relu')(x)\n",
    "z_mean=Dense(2,name='mean')(x)\n",
    "z_var=Dense(2,name='var')(x)\n",
    "\n",
    "z=Lambda(sampling,output_shape=(2,),name='z')([z_mean,z_var])\n",
    "encoder=Model(input_img,[z_mean,z_var,z],name='encoder')\n",
    "encoder.summary()\n",
    "\n",
    "latent_inp=Input(shape=(2,),name='z_sampled')\n",
    "x=Dense(16,activation='relu')(latent_inp)\n",
    "x=Dense(128,activation='relu')(x)\n",
    "x=Reshape((8,8,2))(x)\n",
    "x=UpSampling2D((2,2))(x)\n",
    "x=Conv2D(2,kernel_size=3,activation='relu',padding='same')(x)\n",
    "x=UpSampling2D((2,2))(x)\n",
    "x=Conv2D(2,kernel_size=3,activation='relu',padding='same')(x)\n",
    "x=UpSampling2D((2,2))(x)\n",
    "x=Conv2D(3,kernel_size=3,activation='sigmoid',padding='same')(x)\n",
    "decoder=Model(latent_inp,output=x)\n",
    "decoder.summary()"
   ]
  },
  {
   "cell_type": "code",
   "execution_count": 6,
   "metadata": {},
   "outputs": [],
   "source": [
    "from keras.losses import mse\n",
    "image_size=64\n",
    "original_dim = image_size * image_size\n",
    "\n",
    "def vae_loss(x, x_decoded_mean):\n",
    "    mse_loss = K.mean(mse(x, x_decoded_mean), axis=(1,2)) * image_size * image_size\n",
    "    kl_loss = - 0.5 * K.mean(1 + z_var - K.square(z_mean) - K.exp(z_var), axis=-1)\n",
    "    return mse_loss + kl_loss"
   ]
  },
  {
   "cell_type": "code",
   "execution_count": 7,
   "metadata": {},
   "outputs": [],
   "source": [
    "output=decoder(encoder(input_img)[2])\n",
    "vae = Model(input_img, output, name='vae_mlp')\n",
    "vae.compile(loss=vae_loss,optimizer='adam')"
   ]
  },
  {
   "cell_type": "code",
   "execution_count": 8,
   "metadata": {},
   "outputs": [
    {
     "name": "stdout",
     "output_type": "stream",
     "text": [
      "WARNING:tensorflow:From /Users/felixgeorge/opt/anaconda3/lib/python3.7/site-packages/keras/backend/tensorflow_backend.py:422: The name tf.global_variables is deprecated. Please use tf.compat.v1.global_variables instead.\n",
      "\n",
      "Epoch 1/20\n",
      "200/200 [==============================] - 5s 27ms/step - loss: 383.5576\n",
      "Epoch 2/20\n",
      "200/200 [==============================] - 1s 7ms/step - loss: 380.7360\n",
      "Epoch 3/20\n",
      "200/200 [==============================] - 1s 7ms/step - loss: 377.0327\n",
      "Epoch 4/20\n",
      "200/200 [==============================] - 1s 6ms/step - loss: 371.1714\n",
      "Epoch 5/20\n",
      "200/200 [==============================] - 1s 5ms/step - loss: 360.6765\n",
      "Epoch 6/20\n",
      "200/200 [==============================] - 1s 5ms/step - loss: 337.6392\n",
      "Epoch 7/20\n",
      "200/200 [==============================] - 1s 5ms/step - loss: 308.7994\n",
      "Epoch 8/20\n",
      "200/200 [==============================] - 1s 6ms/step - loss: 281.0367\n",
      "Epoch 9/20\n",
      "200/200 [==============================] - 1s 5ms/step - loss: 258.3674\n",
      "Epoch 10/20\n",
      "200/200 [==============================] - 1s 5ms/step - loss: 241.6716\n",
      "Epoch 11/20\n",
      "200/200 [==============================] - 1s 5ms/step - loss: 228.0728\n",
      "Epoch 12/20\n",
      "200/200 [==============================] - 1s 5ms/step - loss: 218.6207\n",
      "Epoch 13/20\n",
      "200/200 [==============================] - 1s 5ms/step - loss: 210.4321\n",
      "Epoch 14/20\n",
      "200/200 [==============================] - 1s 5ms/step - loss: 203.8347\n",
      "Epoch 15/20\n",
      "200/200 [==============================] - 1s 5ms/step - loss: 198.5643\n",
      "Epoch 16/20\n",
      "200/200 [==============================] - 1s 5ms/step - loss: 193.2325\n",
      "Epoch 17/20\n",
      "200/200 [==============================] - 1s 5ms/step - loss: 189.9584\n",
      "Epoch 18/20\n",
      "200/200 [==============================] - 1s 5ms/step - loss: 186.8912\n",
      "Epoch 19/20\n",
      "200/200 [==============================] - 1s 5ms/step - loss: 183.7837\n",
      "Epoch 20/20\n",
      "200/200 [==============================] - 1s 5ms/step - loss: 181.4508\n"
     ]
    },
    {
     "data": {
      "text/plain": [
       "<keras.callbacks.callbacks.History at 0x64d028910>"
      ]
     },
     "execution_count": 8,
     "metadata": {},
     "output_type": "execute_result"
    }
   ],
   "source": [
    "vae.fit(dat,dat,epochs=20)"
   ]
  },
  {
   "cell_type": "code",
   "execution_count": 12,
   "metadata": {},
   "outputs": [],
   "source": [
    "a=encoder.predict(dat[:2])"
   ]
  },
  {
   "cell_type": "code",
   "execution_count": 13,
   "metadata": {},
   "outputs": [],
   "source": [
    "b=decoder.predict(a[2])"
   ]
  },
  {
   "cell_type": "code",
   "execution_count": 14,
   "metadata": {},
   "outputs": [
    {
     "data": {
      "text/plain": [
       "(2, 64, 64, 3)"
      ]
     },
     "execution_count": 14,
     "metadata": {},
     "output_type": "execute_result"
    }
   ],
   "source": [
    "b.shape"
   ]
  },
  {
   "cell_type": "code",
   "execution_count": 15,
   "metadata": {},
   "outputs": [
    {
     "data": {
      "text/plain": [
       "array([[[0.4920773 , 0.4946714 , 0.50608957],\n",
       "        [0.4920773 , 0.4946714 , 0.50608957],\n",
       "        [0.4920773 , 0.4946714 , 0.50608957],\n",
       "        ...,\n",
       "        [0.41063756, 0.39733323, 0.4485191 ],\n",
       "        [0.42593282, 0.36742994, 0.4248065 ],\n",
       "        [0.443579  , 0.43730298, 0.48078042]],\n",
       "\n",
       "       [[0.4920773 , 0.4946714 , 0.50608957],\n",
       "        [0.4920773 , 0.4946714 , 0.50608957],\n",
       "        [0.4920773 , 0.4946714 , 0.50608957],\n",
       "        ...,\n",
       "        [0.40800437, 0.35966963, 0.38399023],\n",
       "        [0.42796934, 0.31665576, 0.35222042],\n",
       "        [0.4171155 , 0.40931043, 0.42897314]],\n",
       "\n",
       "       [[0.4920773 , 0.4946714 , 0.50608957],\n",
       "        [0.4920773 , 0.4946714 , 0.50608957],\n",
       "        [0.4920773 , 0.4946714 , 0.50608957],\n",
       "        ...,\n",
       "        [0.33071196, 0.3003289 , 0.36272466],\n",
       "        [0.357207  , 0.26593828, 0.33427623],\n",
       "        [0.36354154, 0.38304335, 0.43298507]],\n",
       "\n",
       "       ...,\n",
       "\n",
       "       [[0.5016242 , 0.44675323, 0.48182195],\n",
       "        [0.4842575 , 0.4338769 , 0.46032628],\n",
       "        [0.4768941 , 0.44675767, 0.4747627 ],\n",
       "        ...,\n",
       "        [0.39724728, 0.4456689 , 0.45603114],\n",
       "        [0.40318817, 0.4778293 , 0.4802143 ],\n",
       "        [0.4836395 , 0.49165952, 0.50351155]],\n",
       "\n",
       "       [[0.46462584, 0.42428616, 0.45207182],\n",
       "        [0.43327165, 0.3891888 , 0.437017  ],\n",
       "        [0.40909505, 0.39165434, 0.44548005],\n",
       "        ...,\n",
       "        [0.4444094 , 0.46191147, 0.45712754],\n",
       "        [0.43105182, 0.48761696, 0.47212216],\n",
       "        [0.48837054, 0.49363187, 0.5032456 ]],\n",
       "\n",
       "       [[0.46847683, 0.46674907, 0.47056416],\n",
       "        [0.40899622, 0.4473736 , 0.46625277],\n",
       "        [0.39891648, 0.4370316 , 0.45669618],\n",
       "        ...,\n",
       "        [0.46029663, 0.48315632, 0.4942927 ],\n",
       "        [0.46446535, 0.4888779 , 0.5001302 ],\n",
       "        [0.49124682, 0.49321896, 0.50521195]]], dtype=float32)"
      ]
     },
     "execution_count": 15,
     "metadata": {},
     "output_type": "execute_result"
    }
   ],
   "source": [
    "b[0]"
   ]
  },
  {
   "cell_type": "code",
   "execution_count": 16,
   "metadata": {},
   "outputs": [
    {
     "data": {
      "text/plain": [
       "(64, 64, 3)"
      ]
     },
     "execution_count": 16,
     "metadata": {},
     "output_type": "execute_result"
    }
   ],
   "source": [
    "b[0].shape"
   ]
  },
  {
   "cell_type": "code",
   "execution_count": 18,
   "metadata": {},
   "outputs": [],
   "source": [
    "import cv2"
   ]
  },
  {
   "cell_type": "code",
   "execution_count": 19,
   "metadata": {},
   "outputs": [
    {
     "data": {
      "text/plain": [
       "True"
      ]
     },
     "execution_count": 19,
     "metadata": {},
     "output_type": "execute_result"
    }
   ],
   "source": [
    "for i in range(len(b[0])):\n",
    "    for j in range"
   ]
  },
  {
   "cell_type": "code",
   "execution_count": null,
   "metadata": {},
   "outputs": [],
   "source": []
  }
 ],
 "metadata": {
  "kernelspec": {
   "display_name": "Python 3",
   "language": "python",
   "name": "python3"
  },
  "language_info": {
   "codemirror_mode": {
    "name": "ipython",
    "version": 3
   },
   "file_extension": ".py",
   "mimetype": "text/x-python",
   "name": "python",
   "nbconvert_exporter": "python",
   "pygments_lexer": "ipython3",
   "version": "3.7.4"
  }
 },
 "nbformat": 4,
 "nbformat_minor": 2
}
