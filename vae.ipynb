{
 "cells": [
  {
   "cell_type": "code",
   "execution_count": 1,
   "metadata": {},
   "outputs": [
    {
     "name": "stderr",
     "output_type": "stream",
     "text": [
      "Using TensorFlow backend.\n",
      "/Users/felixgeorge/opt/anaconda3/lib/python3.7/site-packages/tensorflow/python/framework/dtypes.py:516: FutureWarning: Passing (type, 1) or '1type' as a synonym of type is deprecated; in a future version of numpy, it will be understood as (type, (1,)) / '(1,)type'.\n",
      "  _np_qint8 = np.dtype([(\"qint8\", np.int8, 1)])\n",
      "/Users/felixgeorge/opt/anaconda3/lib/python3.7/site-packages/tensorflow/python/framework/dtypes.py:517: FutureWarning: Passing (type, 1) or '1type' as a synonym of type is deprecated; in a future version of numpy, it will be understood as (type, (1,)) / '(1,)type'.\n",
      "  _np_quint8 = np.dtype([(\"quint8\", np.uint8, 1)])\n",
      "/Users/felixgeorge/opt/anaconda3/lib/python3.7/site-packages/tensorflow/python/framework/dtypes.py:518: FutureWarning: Passing (type, 1) or '1type' as a synonym of type is deprecated; in a future version of numpy, it will be understood as (type, (1,)) / '(1,)type'.\n",
      "  _np_qint16 = np.dtype([(\"qint16\", np.int16, 1)])\n",
      "/Users/felixgeorge/opt/anaconda3/lib/python3.7/site-packages/tensorflow/python/framework/dtypes.py:519: FutureWarning: Passing (type, 1) or '1type' as a synonym of type is deprecated; in a future version of numpy, it will be understood as (type, (1,)) / '(1,)type'.\n",
      "  _np_quint16 = np.dtype([(\"quint16\", np.uint16, 1)])\n",
      "/Users/felixgeorge/opt/anaconda3/lib/python3.7/site-packages/tensorflow/python/framework/dtypes.py:520: FutureWarning: Passing (type, 1) or '1type' as a synonym of type is deprecated; in a future version of numpy, it will be understood as (type, (1,)) / '(1,)type'.\n",
      "  _np_qint32 = np.dtype([(\"qint32\", np.int32, 1)])\n",
      "/Users/felixgeorge/opt/anaconda3/lib/python3.7/site-packages/tensorflow/python/framework/dtypes.py:525: FutureWarning: Passing (type, 1) or '1type' as a synonym of type is deprecated; in a future version of numpy, it will be understood as (type, (1,)) / '(1,)type'.\n",
      "  np_resource = np.dtype([(\"resource\", np.ubyte, 1)])\n",
      "/Users/felixgeorge/opt/anaconda3/lib/python3.7/site-packages/tensorboard/compat/tensorflow_stub/dtypes.py:541: FutureWarning: Passing (type, 1) or '1type' as a synonym of type is deprecated; in a future version of numpy, it will be understood as (type, (1,)) / '(1,)type'.\n",
      "  _np_qint8 = np.dtype([(\"qint8\", np.int8, 1)])\n",
      "/Users/felixgeorge/opt/anaconda3/lib/python3.7/site-packages/tensorboard/compat/tensorflow_stub/dtypes.py:542: FutureWarning: Passing (type, 1) or '1type' as a synonym of type is deprecated; in a future version of numpy, it will be understood as (type, (1,)) / '(1,)type'.\n",
      "  _np_quint8 = np.dtype([(\"quint8\", np.uint8, 1)])\n",
      "/Users/felixgeorge/opt/anaconda3/lib/python3.7/site-packages/tensorboard/compat/tensorflow_stub/dtypes.py:543: FutureWarning: Passing (type, 1) or '1type' as a synonym of type is deprecated; in a future version of numpy, it will be understood as (type, (1,)) / '(1,)type'.\n",
      "  _np_qint16 = np.dtype([(\"qint16\", np.int16, 1)])\n",
      "/Users/felixgeorge/opt/anaconda3/lib/python3.7/site-packages/tensorboard/compat/tensorflow_stub/dtypes.py:544: FutureWarning: Passing (type, 1) or '1type' as a synonym of type is deprecated; in a future version of numpy, it will be understood as (type, (1,)) / '(1,)type'.\n",
      "  _np_quint16 = np.dtype([(\"quint16\", np.uint16, 1)])\n",
      "/Users/felixgeorge/opt/anaconda3/lib/python3.7/site-packages/tensorboard/compat/tensorflow_stub/dtypes.py:545: FutureWarning: Passing (type, 1) or '1type' as a synonym of type is deprecated; in a future version of numpy, it will be understood as (type, (1,)) / '(1,)type'.\n",
      "  _np_qint32 = np.dtype([(\"qint32\", np.int32, 1)])\n",
      "/Users/felixgeorge/opt/anaconda3/lib/python3.7/site-packages/tensorboard/compat/tensorflow_stub/dtypes.py:550: FutureWarning: Passing (type, 1) or '1type' as a synonym of type is deprecated; in a future version of numpy, it will be understood as (type, (1,)) / '(1,)type'.\n",
      "  np_resource = np.dtype([(\"resource\", np.ubyte, 1)])\n"
     ]
    }
   ],
   "source": [
    "import numpy as np\n",
    "import matplotlib.pyplot as plt\n",
    "import cv2\n",
    "import os\n",
    "import argparse\n",
    "from keras.layers import Input, Dense, Conv2D, MaxPooling2D, UpSampling2D, Flatten, Reshape,Lambda\n",
    "from keras.models import Model\n",
    "from keras.datasets import mnist\n",
    "from keras.losses import mse, binary_crossentropy\n",
    "from keras.utils import plot_model\n",
    "from keras import backend as K\n",
    "from keras.optimizers import adam"
   ]
  },
  {
   "cell_type": "code",
   "execution_count": 2,
   "metadata": {},
   "outputs": [],
   "source": [
    "def prepare_data():\n",
    "    dat=[]\n",
    "    frames=os.listdir('data')\n",
    "    for i in frames:\n",
    "        try:\n",
    "            temp=cv2.imread('data/'+i)\n",
    "            t=cv2.resize(temp,(64,64))\n",
    "            dat.append(t)\n",
    "        except Exception as e:\n",
    "            continue\n",
    "    return dat"
   ]
  },
  {
   "cell_type": "code",
   "execution_count": 3,
   "metadata": {},
   "outputs": [
    {
     "data": {
      "text/plain": [
       "(200, 64, 64, 3)"
      ]
     },
     "execution_count": 3,
     "metadata": {},
     "output_type": "execute_result"
    }
   ],
   "source": [
    "data=prepare_data()\n",
    "dat=[]\n",
    "for i in data:\n",
    "    if np.array(i).shape==(64,64,3):\n",
    "        dat.append(np.array(i/255))\n",
    "dat=np.array(dat)\n",
    "dat.shape"
   ]
  },
  {
   "cell_type": "code",
   "execution_count": 4,
   "metadata": {},
   "outputs": [],
   "source": [
    "def sampling(args):\n",
    "    z_mean, z_log_var = args\n",
    "    batch = K.shape(z_mean)[0]\n",
    "    dim = K.int_shape(z_mean)[1]\n",
    "    epsilon = K.random_normal(shape=(batch, dim))\n",
    "    return z_mean + K.exp(0.5 * z_log_var) * epsilon"
   ]
  },
  {
   "cell_type": "code",
   "execution_count": 5,
   "metadata": {},
   "outputs": [
    {
     "name": "stdout",
     "output_type": "stream",
     "text": [
      "WARNING:tensorflow:From /Users/felixgeorge/opt/anaconda3/lib/python3.7/site-packages/keras/backend/tensorflow_backend.py:4070: The name tf.nn.max_pool is deprecated. Please use tf.nn.max_pool2d instead.\n",
      "\n",
      "Model: \"encoder\"\n",
      "__________________________________________________________________________________________________\n",
      "Layer (type)                    Output Shape         Param #     Connected to                     \n",
      "==================================================================================================\n",
      "input_1 (InputLayer)            (None, 64, 64, 3)    0                                            \n",
      "__________________________________________________________________________________________________\n",
      "conv2d_1 (Conv2D)               (None, 64, 64, 8)    224         input_1[0][0]                    \n",
      "__________________________________________________________________________________________________\n",
      "max_pooling2d_1 (MaxPooling2D)  (None, 32, 32, 8)    0           conv2d_1[0][0]                   \n",
      "__________________________________________________________________________________________________\n",
      "conv2d_2 (Conv2D)               (None, 32, 32, 4)    292         max_pooling2d_1[0][0]            \n",
      "__________________________________________________________________________________________________\n",
      "max_pooling2d_2 (MaxPooling2D)  (None, 16, 16, 4)    0           conv2d_2[0][0]                   \n",
      "__________________________________________________________________________________________________\n",
      "conv2d_3 (Conv2D)               (None, 16, 16, 2)    74          max_pooling2d_2[0][0]            \n",
      "__________________________________________________________________________________________________\n",
      "max_pooling2d_3 (MaxPooling2D)  (None, 8, 8, 2)      0           conv2d_3[0][0]                   \n",
      "__________________________________________________________________________________________________\n",
      "flatten_1 (Flatten)             (None, 128)          0           max_pooling2d_3[0][0]            \n",
      "__________________________________________________________________________________________________\n",
      "dense_1 (Dense)                 (None, 16)           2064        flatten_1[0][0]                  \n",
      "__________________________________________________________________________________________________\n",
      "mean (Dense)                    (None, 2)            34          dense_1[0][0]                    \n",
      "__________________________________________________________________________________________________\n",
      "var (Dense)                     (None, 2)            34          dense_1[0][0]                    \n",
      "__________________________________________________________________________________________________\n",
      "z (Lambda)                      (None, 2)            0           mean[0][0]                       \n",
      "                                                                 var[0][0]                        \n",
      "==================================================================================================\n",
      "Total params: 2,722\n",
      "Trainable params: 2,722\n",
      "Non-trainable params: 0\n",
      "__________________________________________________________________________________________________\n",
      "Model: \"model_1\"\n",
      "_________________________________________________________________\n",
      "Layer (type)                 Output Shape              Param #   \n",
      "=================================================================\n",
      "z_sampled (InputLayer)       (None, 2)                 0         \n",
      "_________________________________________________________________\n",
      "dense_2 (Dense)              (None, 16)                48        \n",
      "_________________________________________________________________\n",
      "dense_3 (Dense)              (None, 128)               2176      \n",
      "_________________________________________________________________\n",
      "reshape_1 (Reshape)          (None, 8, 8, 2)           0         \n",
      "_________________________________________________________________\n",
      "up_sampling2d_1 (UpSampling2 (None, 16, 16, 2)         0         \n",
      "_________________________________________________________________\n",
      "conv2d_4 (Conv2D)            (None, 16, 16, 2)         38        \n",
      "_________________________________________________________________\n",
      "up_sampling2d_2 (UpSampling2 (None, 32, 32, 2)         0         \n",
      "_________________________________________________________________\n",
      "conv2d_5 (Conv2D)            (None, 32, 32, 2)         38        \n",
      "_________________________________________________________________\n",
      "up_sampling2d_3 (UpSampling2 (None, 64, 64, 2)         0         \n",
      "_________________________________________________________________\n",
      "conv2d_6 (Conv2D)            (None, 64, 64, 3)         57        \n",
      "=================================================================\n",
      "Total params: 2,357\n",
      "Trainable params: 2,357\n",
      "Non-trainable params: 0\n",
      "_________________________________________________________________\n"
     ]
    },
    {
     "name": "stderr",
     "output_type": "stream",
     "text": [
      "/Users/felixgeorge/opt/anaconda3/lib/python3.7/site-packages/ipykernel_launcher.py:27: UserWarning: Update your `Model` call to the Keras 2 API: `Model(Tensor(\"z_..., outputs=Tensor(\"co...)`\n"
     ]
    }
   ],
   "source": [
    "input_img=Input(shape=(64,64,3))\n",
    "x=Conv2D(8,kernel_size=3,activation='relu',padding='same')(input_img)\n",
    "x=MaxPooling2D((2,2),padding='same')(x)\n",
    "x=Conv2D(4,kernel_size=3,activation='relu',padding='same')(x)\n",
    "x=MaxPooling2D((2,2),padding='same')(x)\n",
    "x=Conv2D(2,kernel_size=3,activation='relu',padding='same')(x)\n",
    "x=MaxPooling2D((2,2),padding='same')(x)\n",
    "x=Flatten()(x)\n",
    "x=Dense(16,activation='relu')(x)\n",
    "z_mean=Dense(2,name='mean')(x)\n",
    "z_var=Dense(2,name='var')(x)\n",
    "\n",
    "z=Lambda(sampling,output_shape=(2,),name='z')([z_mean,z_var])\n",
    "encoder=Model(input_img,[z_mean,z_var,z],name='encoder')\n",
    "encoder.summary()\n",
    "\n",
    "latent_inp=Input(shape=(2,),name='z_sampled')\n",
    "x=Dense(16,activation='relu')(latent_inp)\n",
    "x=Dense(128,activation='relu')(x)\n",
    "x=Reshape((8,8,2))(x)\n",
    "x=UpSampling2D((2,2))(x)\n",
    "x=Conv2D(2,kernel_size=3,activation='relu',padding='same')(x)\n",
    "x=UpSampling2D((2,2))(x)\n",
    "x=Conv2D(2,kernel_size=3,activation='relu',padding='same')(x)\n",
    "x=UpSampling2D((2,2))(x)\n",
    "x=Conv2D(3,kernel_size=3,activation='sigmoid',padding='same')(x)\n",
    "decoder=Model(latent_inp,output=x)\n",
    "decoder.summary()"
   ]
  },
  {
   "cell_type": "code",
   "execution_count": 6,
   "metadata": {},
   "outputs": [],
   "source": [
    "from keras.losses import mse\n",
    "image_size=64\n",
    "original_dim = image_size * image_size\n",
    "\n",
    "def vae_loss(x, x_decoded_mean):\n",
    "    mse_loss = K.mean(mse(x, x_decoded_mean), axis=(1,2)) * image_size * image_size\n",
    "    kl_loss = - 0.5 * K.mean(1 + z_var - K.square(z_mean) - K.exp(z_var), axis=-1)\n",
    "    return mse_loss + kl_loss"
   ]
  },
  {
   "cell_type": "code",
   "execution_count": 7,
   "metadata": {},
   "outputs": [],
   "source": [
    "output=decoder(encoder(input_img)[2])\n",
    "vae = Model(input_img, output, name='vae_mlp')\n",
    "vae.compile(loss=vae_loss,optimizer='adam')"
   ]
  },
  {
   "cell_type": "code",
   "execution_count": 8,
   "metadata": {},
   "outputs": [
    {
     "name": "stdout",
     "output_type": "stream",
     "text": [
      "WARNING:tensorflow:From /Users/felixgeorge/opt/anaconda3/lib/python3.7/site-packages/keras/backend/tensorflow_backend.py:422: The name tf.global_variables is deprecated. Please use tf.compat.v1.global_variables instead.\n",
      "\n",
      "Epoch 1/20\n",
      "200/200 [==============================] - 6s 28ms/step - loss: 384.9126\n",
      "Epoch 2/20\n",
      "200/200 [==============================] - 2s 8ms/step - loss: 381.9935\n",
      "Epoch 3/20\n",
      "200/200 [==============================] - 1s 6ms/step - loss: 379.1840\n",
      "Epoch 4/20\n",
      "200/200 [==============================] - 1s 6ms/step - loss: 376.1680\n",
      "Epoch 5/20\n",
      "200/200 [==============================] - 1s 5ms/step - loss: 372.8130\n",
      "Epoch 6/20\n",
      "200/200 [==============================] - 1s 5ms/step - loss: 368.7194\n",
      "Epoch 7/20\n",
      "200/200 [==============================] - 1s 5ms/step - loss: 363.7104\n",
      "Epoch 8/20\n",
      "200/200 [==============================] - 1s 5ms/step - loss: 356.2279\n",
      "Epoch 9/20\n",
      "200/200 [==============================] - 1s 5ms/step - loss: 345.7983\n",
      "Epoch 10/20\n",
      "200/200 [==============================] - 1s 5ms/step - loss: 330.8311\n",
      "Epoch 11/20\n",
      "200/200 [==============================] - 1s 5ms/step - loss: 313.0445\n",
      "Epoch 12/20\n",
      "200/200 [==============================] - 1s 5ms/step - loss: 293.2288\n",
      "Epoch 13/20\n",
      "200/200 [==============================] - 1s 5ms/step - loss: 274.6427\n",
      "Epoch 14/20\n",
      "200/200 [==============================] - 1s 5ms/step - loss: 259.6109\n",
      "Epoch 15/20\n",
      "200/200 [==============================] - 1s 5ms/step - loss: 249.0138\n",
      "Epoch 16/20\n",
      "200/200 [==============================] - 1s 5ms/step - loss: 240.8038\n",
      "Epoch 17/20\n",
      "200/200 [==============================] - 1s 6ms/step - loss: 233.1357\n",
      "Epoch 18/20\n",
      "200/200 [==============================] - 1s 5ms/step - loss: 227.6758\n",
      "Epoch 19/20\n",
      "200/200 [==============================] - 1s 5ms/step - loss: 222.2033\n",
      "Epoch 20/20\n",
      "200/200 [==============================] - 1s 5ms/step - loss: 217.4246\n"
     ]
    },
    {
     "data": {
      "text/plain": [
       "<keras.callbacks.callbacks.History at 0x11dc6b690>"
      ]
     },
     "execution_count": 8,
     "metadata": {},
     "output_type": "execute_result"
    }
   ],
   "source": [
    "vae.fit(dat,dat,epochs=20)"
   ]
  },
  {
   "cell_type": "code",
   "execution_count": 10,
   "metadata": {},
   "outputs": [],
   "source": [
    "a=encoder.predict(dat[:2])"
   ]
  },
  {
   "cell_type": "code",
   "execution_count": 11,
   "metadata": {},
   "outputs": [],
   "source": [
    "b=decoder.predict(a[2])"
   ]
  },
  {
   "cell_type": "code",
   "execution_count": 12,
   "metadata": {},
   "outputs": [
    {
     "data": {
      "text/plain": [
       "(2, 64, 64, 3)"
      ]
     },
     "execution_count": 12,
     "metadata": {},
     "output_type": "execute_result"
    }
   ],
   "source": [
    "b.shape"
   ]
  },
  {
   "cell_type": "code",
   "execution_count": null,
   "metadata": {},
   "outputs": [],
   "source": [
    "plt.imshow(b[0])"
   ]
  },
  {
   "cell_type": "code",
   "execution_count": null,
   "metadata": {},
   "outputs": [],
   "source": [
    "plt.plot([i for i in range(10)])"
   ]
  },
  {
   "cell_type": "code",
   "execution_count": null,
   "metadata": {},
   "outputs": [],
   "source": []
  }
 ],
 "metadata": {
  "kernelspec": {
   "display_name": "Python 3",
   "language": "python",
   "name": "python3"
  },
  "language_info": {
   "codemirror_mode": {
    "name": "ipython",
    "version": 3
   },
   "file_extension": ".py",
   "mimetype": "text/x-python",
   "name": "python",
   "nbconvert_exporter": "python",
   "pygments_lexer": "ipython3",
   "version": "3.7.4"
  }
 },
 "nbformat": 4,
 "nbformat_minor": 2
}
